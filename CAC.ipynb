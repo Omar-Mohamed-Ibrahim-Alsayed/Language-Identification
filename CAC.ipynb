{
 "cells": [
  {
   "cell_type": "markdown",
   "metadata": {},
   "source": [
    "Imports"
   ]
  },
  {
   "cell_type": "code",
   "execution_count": 174,
   "metadata": {},
   "outputs": [],
   "source": [
    "import random\n",
    "import numpy as np\n",
    "import math\n",
    "import time"
   ]
  },
  {
   "cell_type": "markdown",
   "metadata": {},
   "source": [
    "Generating the population"
   ]
  },
  {
   "cell_type": "code",
   "execution_count": 175,
   "metadata": {},
   "outputs": [
    {
     "name": "stdout",
     "output_type": "stream",
     "text": [
      "[[0, 1], [0, 0], [1, 0], [0, 1], [1, 1], [0, 1], [0, 1], [0, 1]]\n",
      "[[0, 0], [0, 0], [1, 0], [1, 0], [0, 1], [1, 1], [0, 1], [0, 1]]\n"
     ]
    }
   ],
   "source": [
    "h = 4\n",
    "w = 4\n",
    "h_b = result = math.ceil(math.log2(h))\n",
    "w_b = result = math.ceil(math.log2(w))\n",
    "N = 8\n",
    "random.seed(time)\n",
    "\n",
    "p = [[random.randint(0,1) for j in range((h_b))] for i in range(N)]\n",
    "q = [[random.randint(0,1) for j in range((w_b))] for i in range(N)]\n",
    "print(p)\n",
    "print(q)"
   ]
  },
  {
   "cell_type": "markdown",
   "metadata": {},
   "source": [
    "Decoding"
   ]
  },
  {
   "cell_type": "code",
   "execution_count": 176,
   "metadata": {},
   "outputs": [
    {
     "name": "stdout",
     "output_type": "stream",
     "text": [
      "[1, 0, 2, 1, 3, 1, 1, 1]\n",
      "[0, 0, 2, 2, 1, 3, 1, 1]\n"
     ]
    }
   ],
   "source": [
    "p_value = []\n",
    "q_value = []\n",
    "def decode ():\n",
    "  for i in range(N):\n",
    "    p_value.append(0)\n",
    "    for j in range(0,h_b):\n",
    "       p_value[i] += p[i][j] * 2**(h_b - 1 - j)\n",
    "  for i in range(N):\n",
    "    q_value.append(0)\n",
    "    for j in range(0,w_b):\n",
    "       q_value[i] += q[i][j] * 2**(w_b - 1 - j)\n",
    "  print(p_value)\n",
    "  print(q_value)\n",
    "decode()"
   ]
  },
  {
   "cell_type": "markdown",
   "metadata": {},
   "source": [
    "Create Chromosomes"
   ]
  },
  {
   "cell_type": "code",
   "execution_count": 177,
   "metadata": {},
   "outputs": [
    {
     "name": "stdout",
     "output_type": "stream",
     "text": [
      "[[0, 1, 0, 0], [0, 0, 0, 0], [1, 0, 1, 0], [0, 1, 1, 0], [1, 1, 0, 1], [0, 1, 1, 1], [0, 1, 0, 1], [0, 1, 0, 1]]\n"
     ]
    }
   ],
   "source": [
    "chromosome_value = []\n",
    "def conc():\n",
    "    for i in range(N):\n",
    "        chromosome_value.append(p[i] + q[i])\n",
    "    print(chromosome_value)\n",
    "conc()"
   ]
  },
  {
   "cell_type": "markdown",
   "metadata": {},
   "source": [
    "Fittness func"
   ]
  },
  {
   "cell_type": "code",
   "execution_count": 178,
   "metadata": {},
   "outputs": [
    {
     "name": "stdout",
     "output_type": "stream",
     "text": [
      "Value at 0 is omiited\n",
      "Value at 1 is omiited\n",
      "4.0\n",
      "2.0\n",
      "3.0\n",
      "3.0\n",
      "1.0\n",
      "1.0\n"
     ]
    }
   ],
   "source": [
    "fittness_value = [0 for i in range(N)]\n",
    "def fittness():\n",
    "  for i in range(N):\n",
    "    if (p_value[i]*q_value[i] != 0) or (p_value[i] > h or q_value[i]> w):\n",
    "      n1 = h*w\n",
    "      n2 = (h*w)/(p_value[i]*q_value[i])\n",
    "      fittness_value[i] = n1/n2\n",
    "      print (fittness_value[i])\n",
    "    else:\n",
    "      print(f'Value at {i} is omiited')\n",
    "fittness()"
   ]
  },
  {
   "cell_type": "markdown",
   "metadata": {},
   "source": [
    "Select parents"
   ]
  },
  {
   "cell_type": "code",
   "execution_count": 179,
   "metadata": {},
   "outputs": [
    {
     "name": "stdout",
     "output_type": "stream",
     "text": [
      "[0 1 6 7 3 4 5 2]\n",
      "[[0 1 1 0]\n",
      " [1 1 0 1]\n",
      " [0 1 1 1]\n",
      " [1 0 1 0]]\n",
      "[[0, 1, 1, 0], [1, 1, 0, 1], [0, 1, 1, 1], [1, 0, 1, 0]]\n"
     ]
    }
   ],
   "source": [
    "selected_populations= []\n",
    "def sort():\n",
    "  global selected_populations\n",
    "  sorted_index = np.argsort(fittness_value)\n",
    "  print (sorted_index)\n",
    "  k = int(N/2)\n",
    "  selected_populations = np.array(chromosome_value)[sorted_index[-k:]]\n",
    "  print (selected_populations)\n",
    "  return selected_populations.tolist()\n",
    "  \n",
    "chromosome_value = sort()\n",
    "print(chromosome_value)"
   ]
  },
  {
   "cell_type": "markdown",
   "metadata": {},
   "source": [
    "Crossover"
   ]
  },
  {
   "cell_type": "code",
   "execution_count": 180,
   "metadata": {},
   "outputs": [
    {
     "name": "stdout",
     "output_type": "stream",
     "text": [
      "[[0, 1, 0, 1], [1, 1, 1, 0], [0, 0, 1, 0], [1, 1, 1, 1]]\n"
     ]
    }
   ],
   "source": [
    "offsprings = []\n",
    "def crossover(parent1, parent2):\n",
    "    parent1 = np.array(parent1)\n",
    "    parent2 = np.array(parent2)\n",
    "    \n",
    "    length = len(parent1)\n",
    "    \n",
    "    crossover_point = np.random.randint(1, length-1)  # Avoiding 0 to ensure crossover happens\n",
    "    \n",
    "    # Create offspring by swapping portions after the crossover point\n",
    "    offspring1 = np.concatenate((parent1[:crossover_point], parent2[crossover_point:])).tolist()\n",
    "    offspring2 = np.concatenate((parent2[:crossover_point], parent1[crossover_point:])).tolist()\n",
    "    \n",
    "    offsprings.append(offspring1)\n",
    "    offsprings.append(offspring2)\n",
    "\n",
    "for i in range(0,int(N/2),2):\n",
    "    crossover(selected_populations[i],selected_populations[i+1])\n",
    "\n",
    "print(offsprings)"
   ]
  },
  {
   "cell_type": "markdown",
   "metadata": {},
   "source": [
    "Mutation"
   ]
  },
  {
   "cell_type": "code",
   "execution_count": 181,
   "metadata": {},
   "outputs": [
    {
     "name": "stdout",
     "output_type": "stream",
     "text": [
      "[[1, 1, 0, 1], [1, 1, 0, 0], [0, 1, 1, 0], [1, 0, 1, 1]]\n"
     ]
    }
   ],
   "source": [
    "def mutate(individual):\n",
    "    individual = np.array(individual)\n",
    "    mask = np.random.randint(len(individual))\n",
    "    \n",
    "    if individual[mask] == 1:\n",
    "        individual[mask] = 0\n",
    "    else:\n",
    "        individual[mask] = 1\n",
    "\n",
    "    return individual.tolist()\n",
    "    \n",
    "for i in range(0,int(N/2)):\n",
    "    offsprings[i] = mutate(offsprings[i])\n",
    "\n",
    "print(offsprings)"
   ]
  },
  {
   "cell_type": "code",
   "execution_count": 182,
   "metadata": {},
   "outputs": [
    {
     "name": "stdout",
     "output_type": "stream",
     "text": [
      "[[0, 1, 1, 0], [1, 1, 0, 1], [0, 1, 1, 1], [1, 0, 1, 0], [1, 1, 0, 1], [1, 1, 0, 0], [0, 1, 1, 0], [1, 0, 1, 1]]\n"
     ]
    }
   ],
   "source": [
    "for i in range(0,int(N/2)):\n",
    "    chromosome_value.append(offsprings[i])\n",
    "\n",
    "print(chromosome_value)"
   ]
  },
  {
   "cell_type": "markdown",
   "metadata": {},
   "source": [
    "Separation"
   ]
  },
  {
   "cell_type": "code",
   "execution_count": 183,
   "metadata": {},
   "outputs": [
    {
     "name": "stdout",
     "output_type": "stream",
     "text": [
      "[[0, 1], [1, 1], [0, 1], [1, 0], [1, 1], [1, 1], [0, 1], [1, 0]]\n"
     ]
    }
   ],
   "source": [
    "p = []\n",
    "q = []\n",
    "for chromosome in chromosome_value:\n",
    "    p.append(chromosome[:h_b])\n",
    "    q.append(chromosome[h_b:])\n",
    "\n",
    "print(p)"
   ]
  },
  {
   "cell_type": "code",
   "execution_count": null,
   "metadata": {},
   "outputs": [],
   "source": []
  },
  {
   "cell_type": "code",
   "execution_count": null,
   "metadata": {},
   "outputs": [],
   "source": []
  }
 ],
 "metadata": {
  "kernelspec": {
   "display_name": "selectedds",
   "language": "python",
   "name": "python3"
  },
  "language_info": {
   "codemirror_mode": {
    "name": "ipython",
    "version": 3
   },
   "file_extension": ".py",
   "mimetype": "text/x-python",
   "name": "python",
   "nbconvert_exporter": "python",
   "pygments_lexer": "ipython3",
   "version": "3.8.19"
  }
 },
 "nbformat": 4,
 "nbformat_minor": 2
}
